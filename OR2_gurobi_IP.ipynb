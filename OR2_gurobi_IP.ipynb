{
 "cells": [
  {
   "cell_type": "markdown",
   "metadata": {},
   "source": [
    "## Facility Location problem using gurobipy"
   ]
  },
  {
   "cell_type": "code",
   "execution_count": null,
   "metadata": {},
   "outputs": [],
   "source": [
    "import pandas as pd\n",
    "from gurobipy import *"
   ]
  },
  {
   "cell_type": "code",
   "execution_count": 3,
   "metadata": {},
   "outputs": [],
   "source": [
    "basic_info = pd.read_excel('IP_dataset.xlsx', 'Basic information')"
   ]
  },
  {
   "cell_type": "code",
   "execution_count": 4,
   "metadata": {},
   "outputs": [],
   "source": [
    "cities = range(len(basic_info['City']))\n",
    "markets = range(len(basic_info['Market']))"
   ]
  },
  {
   "cell_type": "code",
   "execution_count": 6,
   "metadata": {},
   "outputs": [],
   "source": [
    "city_info = pd.read_excel('IP_dataset.xlsx', \"City's information\")"
   ]
  },
  {
   "cell_type": "code",
   "execution_count": 12,
   "metadata": {},
   "outputs": [],
   "source": [
    "operating_costs = city_info['Operating cost']\n",
    "capacities = city_info['Capacity']"
   ]
  },
  {
   "cell_type": "code",
   "execution_count": 13,
   "metadata": {},
   "outputs": [],
   "source": [
    "market_info = pd.read_excel('IP_dataset.xlsx', \"Market's information\")"
   ]
  },
  {
   "cell_type": "code",
   "execution_count": 14,
   "metadata": {},
   "outputs": [],
   "source": [
    "demands = market_info['Demand']"
   ]
  },
  {
   "cell_type": "code",
   "execution_count": 17,
   "metadata": {},
   "outputs": [],
   "source": [
    "shipping_info = pd.read_excel('IP_dataset.xlsx', \"Shipping cost\", index_col = 0)"
   ]
  },
  {
   "cell_type": "code",
   "execution_count": 22,
   "metadata": {},
   "outputs": [],
   "source": [
    "shipping_costs = []\n",
    "\n",
    "for i in shipping_info.index:\n",
    "    shipping_costs.append(list(shipping_info.loc[i]))"
   ]
  },
  {
   "cell_type": "code",
   "execution_count": 23,
   "metadata": {},
   "outputs": [
    {
     "data": {
      "text/plain": [
       "[[2.4, 3.25, 4.05, 5.25, 6.95],\n",
       " [3.5, 2.3, 3.25, 6.05, 5.85],\n",
       " [4.8, 3.4, 2.85, 4.3, 4.8],\n",
       " [6.8, 5.25, 4.3, 3.25, 2.1],\n",
       " [5.75, 6.0, 4.75, 2.75, 3.5]]"
      ]
     },
     "execution_count": 23,
     "metadata": {},
     "output_type": "execute_result"
    }
   ],
   "source": [
    "shipping_costs"
   ]
  },
  {
   "cell_type": "code",
   "execution_count": 29,
   "metadata": {},
   "outputs": [],
   "source": [
    "eg2 = Model(\"eg2\")"
   ]
  },
  {
   "cell_type": "code",
   "execution_count": 30,
   "metadata": {},
   "outputs": [],
   "source": [
    "x = []\n",
    "\n",
    "for j in cities:\n",
    "    x.append(eg2.addVar(lb = 0, vtype = GRB.BINARY, name = \"x\" + str(j+1)))"
   ]
  },
  {
   "cell_type": "code",
   "execution_count": 32,
   "metadata": {},
   "outputs": [],
   "source": [
    "y = []\n",
    "\n",
    "for i in markets:\n",
    "    y.append([])\n",
    "    \n",
    "    for j in cities:\n",
    "        y[i].append(eg2.addVar(lb = 0, vtype = GRB.CONTINUOUS, name = \"y\" + str(i+1) + str(j+1)))"
   ]
  },
  {
   "cell_type": "code",
   "execution_count": 34,
   "metadata": {},
   "outputs": [],
   "source": [
    "#setting the objective function\n",
    "\n",
    "eg2.setObjective(quicksum(operating_costs[j]*x[j] for j in cities) + quicksum(quicksum(shipping_costs[i][j] * y[i][j] for j in cities) for i in markets), GRB.MINIMIZE)"
   ]
  },
  {
   "cell_type": "code",
   "execution_count": 37,
   "metadata": {},
   "outputs": [
    {
     "data": {
      "text/plain": [
       "{0: <gurobi.Constr *Awaiting Model Update*>,\n",
       " 1: <gurobi.Constr *Awaiting Model Update*>,\n",
       " 2: <gurobi.Constr *Awaiting Model Update*>,\n",
       " 3: <gurobi.Constr *Awaiting Model Update*>,\n",
       " 4: <gurobi.Constr *Awaiting Model Update*>}"
      ]
     },
     "execution_count": 37,
     "metadata": {},
     "output_type": "execute_result"
    }
   ],
   "source": [
    "#setting constraints\n",
    "\n",
    "eg2.addConstrs((quicksum(y[i][j] for i in markets) <= capacities[j] * x[j] for j in cities), \"product_capacity\")\n",
    "eg2.addConstrs((quicksum(y[i][j] for j in cities) >= demands[i] for i in markets), \"demand_fulfillment\")"
   ]
  },
  {
   "cell_type": "code",
   "execution_count": 38,
   "metadata": {},
   "outputs": [
    {
     "name": "stdout",
     "output_type": "stream",
     "text": [
      "Gurobi Optimizer version 9.1.2 build v9.1.2rc0 (win64)\n",
      "Thread count: 2 physical cores, 4 logical processors, using up to 4 threads\n",
      "Optimize a model with 15 rows, 30 columns and 85 nonzeros\n",
      "Model fingerprint: 0xfbb419c1\n",
      "Variable types: 25 continuous, 5 integer (5 binary)\n",
      "Coefficient statistics:\n",
      "  Matrix range     [1e+00, 3e+04]\n",
      "  Objective range  [2e+00, 4e+04]\n",
      "  Bounds range     [1e+00, 1e+00]\n",
      "  RHS range        [8e+03, 2e+04]\n",
      "Presolve removed 5 rows and 0 columns\n",
      "Presolve time: 0.12s\n",
      "Presolved: 10 rows, 30 columns, 55 nonzeros\n",
      "Variable types: 25 continuous, 5 integer (5 binary)\n",
      "\n",
      "Root relaxation: objective 2.528000e+05, 11 iterations, 0.06 seconds\n",
      "\n",
      "    Nodes    |    Current Node    |     Objective Bounds      |     Work\n",
      " Expl Unexpl |  Obj  Depth IntInf | Incumbent    BestBd   Gap | It/Node Time\n",
      "\n",
      "     0     0 252800.000    0    5          - 252800.000      -     -    0s\n",
      "H    0     0                    313600.00000 252800.000  19.4%     -    0s\n",
      "H    0     0                    280400.00000 252800.000  9.84%     -    0s\n",
      "     0     0 266813.478    0    3 280400.000 266813.478  4.85%     -    0s\n",
      "H    0     0                    272800.00000 266813.478  2.19%     -    0s\n",
      "     0     0 268857.143    0    2 272800.000 268857.143  1.45%     -    0s\n",
      "*    0     0               0    268950.00000 268950.000  0.00%     -    0s\n",
      "\n",
      "Cutting planes:\n",
      "  Gomory: 3\n",
      "  Implied bound: 3\n",
      "  MIR: 2\n",
      "\n",
      "Explored 1 nodes (20 simplex iterations) in 0.83 seconds\n",
      "Thread count was 4 (of 4 available processors)\n",
      "\n",
      "Solution count 4: 268950 272800 280400 313600 \n",
      "\n",
      "Optimal solution found (tolerance 1.00e-04)\n",
      "Best objective 2.689500000000e+05, best bound 2.689500000000e+05, gap 0.0000%\n"
     ]
    }
   ],
   "source": [
    "eg2.optimize()"
   ]
  },
  {
   "cell_type": "code",
   "execution_count": 50,
   "metadata": {},
   "outputs": [
    {
     "name": "stdout",
     "output_type": "stream",
     "text": [
      "Result:\n",
      "x1 = 0.0\n",
      "x2 = 1.0\n",
      "x3 = 0.0\n",
      "x4 = 1.0\n",
      "x5 = 1.0\n",
      "\tMarket1\tMarket2\tMarket3\tMarket4\tMarket5\n",
      "City1 \t0.0 \t0.0 \t0.0 \t0.0 \t0.0 \t\n",
      "City2 \t7999.999999999998 12000.000000000002 0.0 \t0.0 \t0.0 \t\n",
      "City3 \t0.0 \t0.0 \t0.0 \t0.0 \t0.0 \t\n",
      "City4 \t0.0 \t0.0 \t8000.000000000004 0.0 \t16999.999999999996 \n",
      "City5 \t0.0 \t0.0 \t999.9999999999964 14000.0 3.637978807091713e-12 \n",
      "z* = 268950.0\n"
     ]
    }
   ],
   "source": [
    "print(\"Result:\")\n",
    "\n",
    "for j in cities:\n",
    "    print(x[j].varName, '=', x[j].x)\n",
    "# head of the result table\n",
    "print(\"\\tMarket1\\tMarket2\\tMarket3\\tMarket4\\tMarket5\")\n",
    "\n",
    "for j in cities:\n",
    "    # mark which product is printed now\n",
    "    print(\"City\" + str(j+1), \"\\t\", end=\"\")\n",
    "    for i in markets:\n",
    "        # print values of each kind of product\n",
    "        if len(str(y[i][j].x)) < 7:\n",
    "            print(y[i][j].x, \"\\t\", end=\"\")\n",
    "        else:\n",
    "            print(y[i][j].x, \"\", end=\"\")\n",
    "    print(\"\")    # use for change line\n",
    "\n",
    "print(\"z* =\", eg2.objVal)    # print objective value"
   ]
  },
  {
   "cell_type": "code",
   "execution_count": null,
   "metadata": {},
   "outputs": [],
   "source": []
  }
 ],
 "metadata": {
  "kernelspec": {
   "display_name": "Python 3",
   "language": "python",
   "name": "python3"
  },
  "language_info": {
   "codemirror_mode": {
    "name": "ipython",
    "version": 3
   },
   "file_extension": ".py",
   "mimetype": "text/x-python",
   "name": "python",
   "nbconvert_exporter": "python",
   "pygments_lexer": "ipython3",
   "version": "3.8.3"
  }
 },
 "nbformat": 4,
 "nbformat_minor": 4
}
