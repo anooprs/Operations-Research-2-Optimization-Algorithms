{
 "cells": [
  {
   "cell_type": "code",
   "execution_count": 1,
   "metadata": {},
   "outputs": [],
   "source": [
    "import pandas as pd\n",
    "from gurobipy import *"
   ]
  },
  {
   "cell_type": "code",
   "execution_count": 4,
   "metadata": {},
   "outputs": [],
   "source": [
    "stock_info = pd.read_excel(\"NLP_dataset.xlsx\", \"Stock information\")"
   ]
  },
  {
   "cell_type": "code",
   "execution_count": 5,
   "metadata": {},
   "outputs": [],
   "source": [
    "stocks = range(len(stock_info['Stock']))\n",
    "prices = stock_info['Price']\n",
    "exp_prices = stock_info['Expected price'] \n",
    "variances = stock_info['Variance of the price']"
   ]
  },
  {
   "cell_type": "code",
   "execution_count": 6,
   "metadata": {},
   "outputs": [],
   "source": [
    "other_info = pd.read_excel(\"NLP_dataset.xlsx\", \"Budget and min_exp_profit\")"
   ]
  },
  {
   "cell_type": "code",
   "execution_count": 7,
   "metadata": {},
   "outputs": [],
   "source": [
    "budget = other_info['Budget']\n",
    "min_exp_rev = other_info['Minimum expected profit']"
   ]
  },
  {
   "cell_type": "code",
   "execution_count": 8,
   "metadata": {},
   "outputs": [
    {
     "name": "stdout",
     "output_type": "stream",
     "text": [
      "Restricted license - for non-production use only - expires 2022-01-13\n"
     ]
    }
   ],
   "source": [
    "eg3 = Model(\"eg3\")"
   ]
  },
  {
   "cell_type": "code",
   "execution_count": 9,
   "metadata": {},
   "outputs": [],
   "source": [
    "#add variables as list\n",
    "\n",
    "x = []\n",
    "\n",
    "for i in stocks:\n",
    "    x.append(eg3.addVar(lb = 0, vtype = GRB.CONTINUOUS, name = \"x\" + str(i+1)))"
   ]
  },
  {
   "cell_type": "code",
   "execution_count": 11,
   "metadata": {},
   "outputs": [],
   "source": [
    "#Objective function\n",
    "\n",
    "eg3.setObjective(quicksum((variances[i] * x[i] * x[i]) for i in stocks), GRB.MINIMIZE)"
   ]
  },
  {
   "cell_type": "code",
   "execution_count": 15,
   "metadata": {},
   "outputs": [
    {
     "data": {
      "text/plain": [
       "<gurobi.Constr *Awaiting Model Update*>"
      ]
     },
     "execution_count": 15,
     "metadata": {},
     "output_type": "execute_result"
    }
   ],
   "source": [
    "#setting up constraints\n",
    "\n",
    "eg3.addConstr(quicksum(prices[i] * x[i] for i in stocks) <= budget, \"budget_limit\")\n",
    "\n",
    "eg3.addConstr(quicksum(exp_prices[i] * x[i] for i in stocks) >= min_exp_rev, \"min_revenue\")"
   ]
  },
  {
   "cell_type": "code",
   "execution_count": 16,
   "metadata": {},
   "outputs": [
    {
     "name": "stdout",
     "output_type": "stream",
     "text": [
      "Gurobi Optimizer version 9.1.2 build v9.1.2rc0 (win64)\n",
      "Thread count: 2 physical cores, 4 logical processors, using up to 4 threads\n",
      "Optimize a model with 3 rows, 3 columns and 9 nonzeros\n",
      "Model fingerprint: 0x9bfafa00\n",
      "Model has 3 quadratic objective terms\n",
      "Coefficient statistics:\n",
      "  Matrix range     [2e+01, 6e+01]\n",
      "  Objective range  [0e+00, 0e+00]\n",
      "  QObjective range [2e+02, 3e+03]\n",
      "  Bounds range     [0e+00, 0e+00]\n",
      "  RHS range        [1e+05, 1e+05]\n",
      "Presolve removed 1 rows and 0 columns\n",
      "Presolve time: 0.30s\n",
      "Presolved: 2 rows, 3 columns, 6 nonzeros\n",
      "Presolved model has 3 quadratic objective terms\n",
      "Ordering time: 0.00s\n",
      "\n",
      "Barrier statistics:\n",
      " AA' NZ     : 1.000e+00\n",
      " Factor NZ  : 3.000e+00\n",
      " Factor Ops : 5.000e+00 (less than 1 second per iteration)\n",
      " Threads    : 1\n",
      "\n",
      "                  Objective                Residual\n",
      "Iter       Primal          Dual         Primal    Dual     Compl     Time\n",
      "   0   2.03097721e+09 -2.03097721e+09  3.40e+04 2.23e+04  3.15e+08     1s\n",
      "   1   5.66591324e+08 -4.97182349e+08  6.79e+03 7.75e+03  1.24e+08     1s\n",
      "   2   5.92995296e+08  2.34259833e+07  8.91e+03 2.69e+03  8.54e+07     1s\n",
      "   3   3.84752749e+08  2.92382908e+08  2.32e+03 7.07e+02  2.03e+07     1s\n",
      "   4   4.33655425e+08  4.72709996e+08  1.14e+03 4.30e+02  1.90e+07     1s\n",
      "   5   4.95678930e+08  8.14886122e+08  9.23e+02 2.74e+02  1.69e+07     1s\n",
      "   6   1.68275932e+09  1.24036759e+09  0.00e+00 2.74e-04  8.85e+07     1s\n",
      "   7   1.30677756e+09  1.28688757e+09  0.00e+00 6.04e-10  3.98e+06     1s\n",
      "   8   1.28890668e+09  1.28888695e+09  0.00e+00 0.00e+00  3.95e+03     1s\n",
      "   9   1.28888891e+09  1.28888889e+09  0.00e+00 2.91e-11  3.95e+00     1s\n",
      "  10   1.28888889e+09  1.28888889e+09  0.00e+00 1.96e-10  3.95e-03     1s\n",
      "  11   1.28888889e+09  1.28888889e+09  2.55e-12 2.91e-11  3.96e-06     1s\n",
      "  12   1.28888889e+09  1.28888889e+09  0.00e+00 1.35e-10  3.96e-09     1s\n",
      "\n",
      "Barrier solved model in 12 iterations and 0.51 seconds\n",
      "Optimal objective 1.28888889e+09\n",
      "\n"
     ]
    }
   ],
   "source": [
    "eg3.optimize()"
   ]
  },
  {
   "cell_type": "code",
   "execution_count": 18,
   "metadata": {},
   "outputs": [
    {
     "name": "stdout",
     "output_type": "stream",
     "text": [
      "x1 = 1333.3333333333317\n",
      "x2 = 833.3333333333353\n",
      "x3 = 5.206479807093608e-15\n",
      "z* = 1288888888.8888938\n",
      "The expected profit is 115000.0\n",
      "The total spending is 100000.0\n"
     ]
    }
   ],
   "source": [
    "#Solution\n",
    "\n",
    "for i in stocks:\n",
    "    print(x[i].varName, '=', x[i].x)\n",
    "    \n",
    "print(\"z* =\", eg3.objVal)\n",
    "print(\"The expected profit is\", sum(exp_prices[i] * x[i].x for i in stocks))\n",
    "print(\"The total spending is\", sum(prices[i] * x[i].x for i in stocks))"
   ]
  },
  {
   "cell_type": "code",
   "execution_count": null,
   "metadata": {},
   "outputs": [],
   "source": []
  }
 ],
 "metadata": {
  "kernelspec": {
   "display_name": "Python 3",
   "language": "python",
   "name": "python3"
  },
  "language_info": {
   "codemirror_mode": {
    "name": "ipython",
    "version": 3
   },
   "file_extension": ".py",
   "mimetype": "text/x-python",
   "name": "python",
   "nbconvert_exporter": "python",
   "pygments_lexer": "ipython3",
   "version": "3.8.3"
  }
 },
 "nbformat": 4,
 "nbformat_minor": 4
}
